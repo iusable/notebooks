{
  "nbformat": 4,
  "nbformat_minor": 0,
  "metadata": {
    "colab": {
      "provenance": []
    },
    "kernelspec": {
      "name": "python3",
      "display_name": "Python 3"
    },
    "language_info": {
      "name": "python"
    }
  },
  "cells": [
    {
      "cell_type": "code",
      "execution_count": null,
      "metadata": {
        "id": "DudKDYjmI-65"
      },
      "outputs": [],
      "source": [
        "!pip install -U sentence-transformers\n",
        "!pip install -U scikit-learn"
      ]
    },
    {
      "cell_type": "code",
      "source": [
        "text = [\n",
        "    \"Art. 144 StGB:  Wer eine Sache, an der ein fremdes Eigentums‑, Gebrauchs- oder Nutzniessungsrecht besteht, beschädigt, zerstört oder unbrauchbar macht, wird, auf Antrag, mit Freiheitsstrafe bis zu drei Jahren oder Geldstrafe bestraft.\",\n",
        "    \"Art. 144bis StGB: 1.  Wer unbefugt elektronisch oder in vergleichbarer Weise gespeicherte oder übermittelte Daten verändert, löscht oder unbrauchbar macht, wird, auf Antrag, mit Freiheitsstrafe bis zu drei Jahren oder Geldstrafe bestraft.Hat der Täter einen grossen Schaden verursacht, so wird er mit Freiheitsstrafe bis zu fünf Jahren oder Geldstrafe bestraft. Die Tat wird von Amtes wegen verfolgt.\"\n",
        "]\n"
      ],
      "metadata": {
        "id": "_twf8-dhJH8Y"
      },
      "execution_count": null,
      "outputs": []
    },
    {
      "cell_type": "code",
      "source": [
        "from sentence_transformers import SentenceTransformer\n",
        "import numpy as np\n",
        "# Load model\n",
        "model = SentenceTransformer('intfloat/multilingual-e5-large')\n",
        "\n",
        "# Encode each text chunk\n",
        "embeddings = model.encode(text)\n",
        "\n",
        "# (optional) Save embeddings (makes sense if you're embedding longer texts and are running the notebook on cpu)\n",
        "np.save('embeddings.npy', embeddings)"
      ],
      "metadata": {
        "id": "o4XKyitZJRbg"
      },
      "execution_count": null,
      "outputs": []
    },
    {
      "cell_type": "code",
      "source": [
        "# Query \"query:\" needs to be prepended according to modelcard.\n",
        "query = \"query: Was passiert wenn ich etwas kaputt mache, das mir nicht gehört?\"\n",
        "\n",
        "# Encode query\n",
        "query_embedding = model.encode([query])[0]\n",
        "\n",
        "# Find most similar chunks\n",
        "from sklearn.metrics.pairwise import cosine_similarity\n",
        "results = cosine_similarity([query_embedding], embeddings)\n",
        "\n",
        "# Output the text chunks with their similarity scores\n",
        "for idx in results.argsort()[0][-5:]:\n",
        "    print(text[idx], results[0][idx])"
      ],
      "metadata": {
        "id": "J_7xjCu8Ja-a"
      },
      "execution_count": null,
      "outputs": []
    }
  ]
}